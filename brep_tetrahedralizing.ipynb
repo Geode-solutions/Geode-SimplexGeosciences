{
 "metadata": {
  "language_info": {
   "codemirror_mode": {
    "name": "ipython",
    "version": 3
   },
   "file_extension": ".py",
   "mimetype": "text/x-python",
   "name": "python",
   "nbconvert_exporter": "python",
   "pygments_lexer": "ipython3",
   "version": "3.8.5-final"
  },
  "orig_nbformat": 2,
  "kernelspec": {
   "name": "python38564bit803274702961490c8f23f97c39496878",
   "display_name": "Python 3.8.5 64-bit"
  }
 },
 "nbformat": 4,
 "nbformat_minor": 2,
 "cells": [
  {
   "source": [
    "# Simplicial volume meshing of boundary representation\n",
    "\n",
    "The goal is to mesh a boundary representation as defined here: https://docs.geode-solutions.com/datamodel.\n",
    "The `Blocks` will be meshed according the input mesh sizes while keeping the topology (meaning the relationships between the model components) and the conformity (meaning the mesh element boundaries are geometrically identical) of the model. So the mesh of the `Surfaces` will be embedded into the tetrahedral solid mesh boundaries. \n"
   ],
   "cell_type": "markdown",
   "metadata": {}
  },
  {
   "source": [
    "## Import modules\n",
    "\n",
    "You need to import OpenGeode and Geode-SimplexRemesh modules."
   ],
   "cell_type": "markdown",
   "metadata": {}
  },
  {
   "cell_type": "code",
   "execution_count": null,
   "metadata": {},
   "outputs": [],
   "source": [
    "# Fix to better handle import since Python 3.8 on Windows\n",
    "import os, sys, platform\n",
    "if sys.version_info >= (3,8,0) and platform.system() == \"Windows\":\n",
    "    for path in [x.strip() for x in os.environ['PATH'].split(';') if x]:\n",
    "        os.add_dll_directory(path)\n",
    "\n",
    "import opengeode\n",
    "from geode_simplexremesh import solid # only the \"solid\" part of the package is needed"
   ]
  },
  {
   "source": [
    "## Meshing without mesh size input\n",
    "\n",
    "In this section, we will see how to tetrahedralize a model. The surface meshes will not be affected by this operation."
   ],
   "cell_type": "markdown",
   "metadata": {}
  },
  {
   "cell_type": "code",
   "execution_count": null,
   "metadata": {},
   "outputs": [],
   "source": [
    "# Load a model and remesh it\n",
    "solid = opengeode.load_brep(\"brep.og_brep\")\n",
    "solid.tetrahedralize(brep) # the given brep will be filled with tetradra\n",
    "opengeode.save_brep(brep, \"meshed_brep.og_brep\")"
   ]
  }
 ]
}